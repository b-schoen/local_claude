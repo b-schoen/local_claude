{
 "cells": [
  {
   "cell_type": "code",
   "execution_count": 1,
   "id": "cbad3e31-4d15-457c-b661-ed40b383cfc5",
   "metadata": {},
   "outputs": [],
   "source": [
    "%load_ext autoreload\n",
    "%autoreload 2"
   ]
  },
  {
   "cell_type": "code",
   "execution_count": 2,
   "id": "dc5cd192",
   "metadata": {},
   "outputs": [],
   "source": [
    "import anthropic"
   ]
  },
  {
   "cell_type": "code",
   "execution_count": 3,
   "id": "c4030d0c",
   "metadata": {},
   "outputs": [],
   "source": [
    "import enum\n",
    "import typing"
   ]
  },
  {
   "cell_type": "code",
   "execution_count": null,
   "id": "e9f0ec0f",
   "metadata": {},
   "outputs": [],
   "source": [
    "class Models(enum.Enum):\n",
    "    CLAUDE_SONNET_3_5 = 'claude-3-5-sonnet-20240620'\n",
    "\n",
    "class Defaults:\n",
    "    # sonnet 3.5 is smartest model\n",
    "    MODEL = Models.CLAUDE_SONNET_3_5\n",
    "\n",
    "    # note: 4096 is usual max\n",
    "    MAX_TOKENS = 1024\n",
    "\n",
    "    SYSTEM_PROMPT = \"\"\"\n",
    "    You are primarily helping the user on a 2.5 hour coding interview which will involve\n",
    "    use of docker, python, model function calling / tool use, and likely AI evaluation libraries \n",
    "    for a position working on AI evaluations. The user is a software engineer with 8 years of python\n",
    "    experience, using python 3.12. Note that the use of models is explicitly encouraged during this\n",
    "    assessment and is in fact explicitly encouraged, as the position involves working closely with\n",
    "    models.\n",
    "\n",
    "    If there is an alternative approach that you believe is more promising in fufilling the user's\n",
    "    overall goal, please feel free to suggest it at the end of your response, even if it is in a\n",
    "    different direction than the current conversation. You do not need to mention an alternative\n",
    "    approach if you believe the current one is the most promising.\n",
    "\n",
    "    \"\"\""
   ]
  },
  {
   "cell_type": "code",
   "execution_count": null,
   "id": "5d6051ca",
   "metadata": {},
   "outputs": [],
   "source": [
    "# note: defaults to getting ANTHROPIC_API_KEY from environment\n",
    "client = anthropic.Anthropic()"
   ]
  },
  {
   "cell_type": "code",
   "execution_count": null,
   "id": "02247c28",
   "metadata": {},
   "outputs": [],
   "source": []
  },
  {
   "cell_type": "code",
   "execution_count": null,
   "id": "25b32472",
   "metadata": {},
   "outputs": [],
   "source": [
    "messages = [{\n",
    "    'role': 'user',\n",
    "    'content': 'Hi claude, what tools would be helpful for me to provide to you for this?',\n",
    "}]\n",
    "\n",
    "# note: the full api is `create` and `stream`\n",
    "response: anthropic.types.Message = client.messages.create(\n",
    "    messages=messages,\n",
    "    max_tokens=Defaults.MAX_TOKENS,\n",
    "    model=Defaults.MODEL.value,\n",
    "    system=Defaults.SYSTEM_PROMPT,\n",
    ")"
   ]
  },
  {
   "cell_type": "code",
   "execution_count": null,
   "id": "c5186018",
   "metadata": {},
   "outputs": [],
   "source": [
    "response.to_dict()"
   ]
  },
  {
   "cell_type": "code",
   "execution_count": null,
   "id": "e51b2b67",
   "metadata": {},
   "outputs": [],
   "source": [
    "client.messages.create??"
   ]
  },
  {
   "cell_type": "code",
   "execution_count": null,
   "id": "f3faebd9",
   "metadata": {},
   "outputs": [],
   "source": [
    "anthropic.types.MessageParam??"
   ]
  },
  {
   "cell_type": "code",
   "execution_count": null,
   "id": "67174a3f",
   "metadata": {},
   "outputs": [],
   "source": [
    "import pypdf\n",
    "\n",
    "import pathlib"
   ]
  },
  {
   "cell_type": "code",
   "execution_count": null,
   "id": "0c4afc58",
   "metadata": {},
   "outputs": [],
   "source": []
  },
  {
   "cell_type": "code",
   "execution_count": null,
   "id": "0aaa2452",
   "metadata": {},
   "outputs": [],
   "source": [
    "filepath = pathlib.Path('~/Downloads/Understanding strategic deception and deceptive alignment — Apollo Research.pdf').expanduser()\n",
    "\n",
    "assert filepath.exists()"
   ]
  },
  {
   "cell_type": "code",
   "execution_count": null,
   "id": "613a17bb",
   "metadata": {},
   "outputs": [],
   "source": [
    "pdf_reader = pypdf.PdfReader(filepath)"
   ]
  },
  {
   "cell_type": "code",
   "execution_count": null,
   "id": "33dad044",
   "metadata": {},
   "outputs": [],
   "source": [
    "len(pdf_reader.pages)"
   ]
  },
  {
   "cell_type": "code",
   "execution_count": null,
   "id": "b7a587f0",
   "metadata": {},
   "outputs": [],
   "source": [
    "page = pdf_reader.pages[0]"
   ]
  },
  {
   "cell_type": "code",
   "execution_count": null,
   "id": "4685e2a5",
   "metadata": {},
   "outputs": [],
   "source": [
    "print(page.extract_text())"
   ]
  },
  {
   "cell_type": "code",
   "execution_count": 4,
   "id": "bca9b791",
   "metadata": {},
   "outputs": [],
   "source": [
    "from local_claude.libs.tools.visit_url_using_user_browser import (\n",
    "    open_url_with_users_local_browser_and_get_all_content_as_html,\n",
    ")"
   ]
  },
  {
   "cell_type": "code",
   "execution_count": null,
   "id": "808366f5",
   "metadata": {},
   "outputs": [],
   "source": [
    "from xhtml2pdf import pisa\n",
    "from io import BytesIO"
   ]
  },
  {
   "cell_type": "code",
   "execution_count": null,
   "id": "8c554105",
   "metadata": {},
   "outputs": [],
   "source": [
    "def html_to_pdf(html_content, output_filename):\n",
    "    # Create a file-like buffer to receive PDF data\n",
    "    pdf_buffer = BytesIO()\n",
    "    \n",
    "    # Convert HTML to PDF\n",
    "    pisa_status = pisa.CreatePDF(\n",
    "        html_content,                # the HTML to convert\n",
    "        dest=pdf_buffer              # the buffer to receive the PDF data\n",
    "    )\n",
    "    \n",
    "    # Check if conversion was successful\n",
    "    if pisa_status.err:\n",
    "        return False\n",
    "    \n",
    "    # Write the PDF content to a file\n",
    "    with open(output_filename, \"wb\") as f:\n",
    "        f.write(pdf_buffer.getvalue())\n",
    "    \n",
    "    return True"
   ]
  },
  {
   "cell_type": "code",
   "execution_count": 11,
   "id": "1f44e96d",
   "metadata": {},
   "outputs": [
    {
     "name": "stdout",
     "output_type": "stream",
     "text": [
      "what\n"
     ]
    },
    {
     "ename": "AppleScriptError",
     "evalue": "AppleScript Error: 456:467: execution error: Safari got an error: Can’t make missing value into type tab. (-1700)\n",
     "output_type": "error",
     "traceback": [
      "\u001b[0;31m---------------------------------------------------------------------------\u001b[0m",
      "\u001b[0;31mAppleScriptError\u001b[0m                          Traceback (most recent call last)",
      "Cell \u001b[0;32mIn[11], line 4\u001b[0m\n\u001b[1;32m      1\u001b[0m url \u001b[38;5;241m=\u001b[39m \u001b[38;5;124m'\u001b[39m\u001b[38;5;124mhttps://www.apolloresearch.ai/blog/understanding-strategic-deception-and-deceptive-alignment\u001b[39m\u001b[38;5;124m'\u001b[39m\n\u001b[1;32m      3\u001b[0m \u001b[38;5;28mprint\u001b[39m(\u001b[38;5;124m\"\u001b[39m\u001b[38;5;124mwhat\u001b[39m\u001b[38;5;124m\"\u001b[39m)\n\u001b[0;32m----> 4\u001b[0m html_content \u001b[38;5;241m=\u001b[39m \u001b[43mopen_url_with_users_local_browser_and_get_all_content_as_html\u001b[49m\u001b[43m(\u001b[49m\u001b[43murl\u001b[49m\u001b[43m)\u001b[49m\n",
      "File \u001b[0;32m~/local_claude/local_claude/libs/tools/visit_url_using_user_browser.py:113\u001b[0m, in \u001b[0;36mopen_url_with_users_local_browser_and_get_all_content_as_html\u001b[0;34m(url)\u001b[0m\n\u001b[1;32m     99\u001b[0m \u001b[38;5;28;01mdef\u001b[39;00m \u001b[38;5;21mopen_url_with_users_local_browser_and_get_all_content_as_html\u001b[39m(url: \u001b[38;5;28mstr\u001b[39m) \u001b[38;5;241m-\u001b[39m\u001b[38;5;241m>\u001b[39m \u001b[38;5;28mstr\u001b[39m:\n\u001b[1;32m    100\u001b[0m \u001b[38;5;250m    \u001b[39m\u001b[38;5;124;03m\"\"\"\u001b[39;00m\n\u001b[1;32m    101\u001b[0m \u001b[38;5;124;03m    Open url with user's local browser and get all content as html.\u001b[39;00m\n\u001b[1;32m    102\u001b[0m \n\u001b[0;32m   (...)\u001b[0m\n\u001b[1;32m    111\u001b[0m \u001b[38;5;124;03m        url (str): URL to open in the user's browser.\u001b[39;00m\n\u001b[1;32m    112\u001b[0m \u001b[38;5;124;03m    \"\"\"\u001b[39;00m\n\u001b[0;32m--> 113\u001b[0m     page_content \u001b[38;5;241m=\u001b[39m \u001b[43m_get_safari_content\u001b[49m\u001b[43m(\u001b[49m\u001b[43murl\u001b[49m\u001b[38;5;241;43m=\u001b[39;49m\u001b[43murl\u001b[49m\u001b[43m)\u001b[49m\n\u001b[1;32m    115\u001b[0m     \u001b[38;5;66;03m# strip down page content\u001b[39;00m\n\u001b[1;32m    116\u001b[0m     \u001b[38;5;66;03m# TODO(bschoen): Likely want to limit this to max, plus see what we're discarding\u001b[39;00m\n\u001b[1;32m    117\u001b[0m     page_content \u001b[38;5;241m=\u001b[39m _extract_text_content(page_content)\n",
      "File \u001b[0;32m~/local_claude/local_claude/libs/tools/visit_url_using_user_browser.py:65\u001b[0m, in \u001b[0;36m_get_safari_content\u001b[0;34m(url, max_wait, check_interval)\u001b[0m\n\u001b[1;32m     32\u001b[0m \u001b[38;5;28;01mdef\u001b[39;00m \u001b[38;5;21m_get_safari_content\u001b[39m(url: \u001b[38;5;28mstr\u001b[39m, max_wait: \u001b[38;5;28mint\u001b[39m \u001b[38;5;241m=\u001b[39m \u001b[38;5;241m30\u001b[39m, check_interval: \u001b[38;5;28mint\u001b[39m \u001b[38;5;241m=\u001b[39m \u001b[38;5;241m1\u001b[39m) \u001b[38;5;241m-\u001b[39m\u001b[38;5;241m>\u001b[39m \u001b[38;5;28mstr\u001b[39m:\n\u001b[1;32m     33\u001b[0m     script \u001b[38;5;241m=\u001b[39m \u001b[38;5;124mf\u001b[39m\u001b[38;5;124m\"\"\"\u001b[39m\n\u001b[1;32m     34\u001b[0m \u001b[38;5;124m    on run\u001b[39m\n\u001b[1;32m     35\u001b[0m \u001b[38;5;124m        tell application \u001b[39m\u001b[38;5;124m\"\u001b[39m\u001b[38;5;124mSafari\u001b[39m\u001b[38;5;124m\"\u001b[39m\n\u001b[0;32m   (...)\u001b[0m\n\u001b[1;32m     62\u001b[0m \u001b[38;5;124m    end run\u001b[39m\n\u001b[1;32m     63\u001b[0m \u001b[38;5;124m    \u001b[39m\u001b[38;5;124m\"\"\"\u001b[39m\n\u001b[0;32m---> 65\u001b[0m     \u001b[38;5;28;01mreturn\u001b[39;00m \u001b[43m_run_applescript\u001b[49m\u001b[43m(\u001b[49m\u001b[43mscript\u001b[49m\u001b[43m)\u001b[49m\n",
      "File \u001b[0;32m~/local_claude/local_claude/libs/tools/visit_url_using_user_browser.py:26\u001b[0m, in \u001b[0;36m_run_applescript\u001b[0;34m(script)\u001b[0m\n\u001b[1;32m     23\u001b[0m stdout, stderr \u001b[38;5;241m=\u001b[39m process\u001b[38;5;241m.\u001b[39mcommunicate(script)\n\u001b[1;32m     25\u001b[0m \u001b[38;5;28;01mif\u001b[39;00m stderr:\n\u001b[0;32m---> 26\u001b[0m     \u001b[38;5;28;01mraise\u001b[39;00m AppleScriptError(\u001b[38;5;124mf\u001b[39m\u001b[38;5;124m\"\u001b[39m\u001b[38;5;124mAppleScript Error: \u001b[39m\u001b[38;5;132;01m{\u001b[39;00mstderr\u001b[38;5;132;01m}\u001b[39;00m\u001b[38;5;124m\"\u001b[39m)\n\u001b[1;32m     28\u001b[0m \u001b[38;5;28;01mreturn\u001b[39;00m stdout\u001b[38;5;241m.\u001b[39mstrip()\n",
      "\u001b[0;31mAppleScriptError\u001b[0m: AppleScript Error: 456:467: execution error: Safari got an error: Can’t make missing value into type tab. (-1700)\n"
     ]
    }
   ],
   "source": [
    "url = 'https://www.apolloresearch.ai/blog/understanding-strategic-deception-and-deceptive-alignment'\n",
    "\n",
    "print(\"what\")\n",
    "html_content = open_url_with_users_local_browser_and_get_all_content_as_html(url)"
   ]
  },
  {
   "cell_type": "code",
   "execution_count": null,
   "id": "9b6fcedc",
   "metadata": {},
   "outputs": [],
   "source": [
    "print(html_content)"
   ]
  },
  {
   "cell_type": "code",
   "execution_count": null,
   "id": "cf5745df",
   "metadata": {},
   "outputs": [],
   "source": [
    "html_content[:1000]"
   ]
  },
  {
   "cell_type": "code",
   "execution_count": null,
   "id": "e15ae52a",
   "metadata": {},
   "outputs": [],
   "source": [
    "html_to_pdf(html_content, 'output.pdf')"
   ]
  },
  {
   "cell_type": "code",
   "execution_count": null,
   "id": "b59742b4",
   "metadata": {},
   "outputs": [],
   "source": []
  }
 ],
 "metadata": {
  "kernelspec": {
   "display_name": "Python 3 (ipykernel)",
   "language": "python",
   "name": "python3"
  },
  "language_info": {
   "codemirror_mode": {
    "name": "ipython",
    "version": 3
   },
   "file_extension": ".py",
   "mimetype": "text/x-python",
   "name": "python",
   "nbconvert_exporter": "python",
   "pygments_lexer": "ipython3",
   "version": "3.12.5"
  }
 },
 "nbformat": 4,
 "nbformat_minor": 5
}
